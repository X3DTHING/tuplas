{
  "nbformat": 4,
  "nbformat_minor": 0,
  "metadata": {
    "colab": {
      "provenance": [],
      "authorship_tag": "ABX9TyPXXMC5E2Z87ammPGc5ypRz",
      "include_colab_link": true
    },
    "kernelspec": {
      "name": "python3",
      "display_name": "Python 3"
    },
    "language_info": {
      "name": "python"
    }
  },
  "cells": [
    {
      "cell_type": "markdown",
      "metadata": {
        "id": "view-in-github",
        "colab_type": "text"
      },
      "source": [
        "<a href=\"https://colab.research.google.com/github/X3DTHING/tuplas/blob/main/tuplas.ipynb\" target=\"_parent\"><img src=\"https://colab.research.google.com/assets/colab-badge.svg\" alt=\"Open In Colab\"/></a>"
      ]
    },
    {
      "cell_type": "code",
      "execution_count": 8,
      "metadata": {
        "colab": {
          "base_uri": "https://localhost:8080/"
        },
        "id": "f00PuIsxs6Me",
        "outputId": "513c0898-951f-4ef4-8255-4be1a2933959"
      },
      "outputs": [
        {
          "output_type": "stream",
          "name": "stdout",
          "text": [
            "carlos\n",
            "20\n",
            "{'roberto', 'carlos', 'vinicius'}\n",
            "(21, 20, 90)\n"
          ]
        }
      ],
      "source": [
        "nome = \"carlos\"\n",
        "idade = 20\n",
        "\n",
        "print(nome)\n",
        "print(idade)\n",
        "\n",
        "nome, idade = {\"carlos\", \"vinicius\", \"roberto\"}, (21, 20, 90)\n",
        "\n",
        "print(nome)\n",
        "print(idade)\n",
        "\n"
      ]
    }
  ]
}